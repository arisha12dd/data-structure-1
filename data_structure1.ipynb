{
  "nbformat": 4,
  "nbformat_minor": 0,
  "metadata": {
    "colab": {
      "provenance": [],
      "collapsed_sections": [
        "ujVNA5GWgZ5L"
      ]
    },
    "kernelspec": {
      "name": "python3",
      "display_name": "Python 3"
    },
    "language_info": {
      "name": "python"
    }
  },
  "cells": [
    {
      "cell_type": "markdown",
      "source": [
        "  1.What are data structures, and why are they important ?\n",
        "\n",
        "  Data structures are ways to organize and store data in a computer so it can be used efficiently.\n",
        "\n",
        "  Importance:\n",
        "\n",
        "  1.Help manage and access data easily\n",
        "\n",
        "  2.Improve speed and performance of programs\n",
        "\n",
        "  3.Save memory and processing time\n",
        "\n",
        "  4.Are essential for writing efficient algorithms\n",
        "     "
      ],
      "metadata": {
        "id": "SzDcAMtj2s8H"
      }
    },
    {
      "cell_type": "markdown",
      "source": [
        "2. Explain the difference between mutable and immutable data types with examples?\n",
        "\n",
        "  The differences between mutable data types and immutables data types are as follows :\n",
        "\n",
        "    1.Mutable Data Types\n",
        "    Means: We can change the values after creating them.\n",
        "\n",
        "    Example: list, dict, set\n",
        "\n",
        "    2.Immutable Data Types\n",
        "    Means: We cannot change the values after creating them.\n",
        "\n",
        "    Example: int, float, str, tuple"
      ],
      "metadata": {
        "id": "TWv1K8cz3xHb"
      }
    },
    {
      "cell_type": "markdown",
      "source": [
        "3. What are the main differences between lists and tuples in Python?\n",
        "\n",
        "  Main differences between lists and tuples in Python:\n",
        "\n",
        "   1.Lists are mutable (can be changed), tuples are immutable (cannot be changed).\n",
        "\n",
        "    2.Lists use [], tuples use ().\n",
        "\n",
        "     3.Tuples are faster and more memory-efficient."
      ],
      "metadata": {
        "id": "ds4cuUUO3xXF"
      }
    },
    {
      "cell_type": "markdown",
      "source": [
        "  4.Describe how dictionaries store data?\n",
        "\n",
        "  Main differences between lists and tuples in Python:\n",
        "\n",
        "  1.Lists are mutable (can be changed), tuples are immutable (cannot be changed).\n",
        "\n",
        "  2.Lists use [], tuples use ().\n",
        "\n",
        "  3.Tuples are faster and more memory-efficient.\n",
        "\n"
      ],
      "metadata": {
        "id": "DpDLLKpw3xaP"
      }
    },
    {
      "cell_type": "markdown",
      "source": [
        "5. Why might you use a set instead of a list in Python?\n",
        "\n",
        "     Sets automatically remove duplicates and offer faster membership checks.\n",
        "\n"
      ],
      "metadata": {
        "id": "OJEOOG8a4vVQ"
      }
    },
    {
      "cell_type": "markdown",
      "source": [
        "6.  What is a string in Python, and how is it different from a list?\n",
        "     \n",
        "     . A string is a sequence of characters, immutable.\n",
        "\n",
        "    . A list can hold items of any type and is mutable.\n",
        "\n",
        "\n"
      ],
      "metadata": {
        "id": "t90NW8gp3xd2"
      }
    },
    {
      "cell_type": "markdown",
      "source": [
        "7.  How do tuples ensure data integrity in Python ?\n",
        "\n",
        "   Tuples cannot be changed after creation, protecting the data from modification.\n"
      ],
      "metadata": {
        "id": "w6jU6WlW3xhQ"
      }
    },
    {
      "cell_type": "markdown",
      "source": [
        "8. What is a hash table, and how does it relate to dictionaries in Python ?\n",
        "\n",
        "  A hash table maps keys to values using a hashing function; Python dictionaries use this internally.\n"
      ],
      "metadata": {
        "id": "-etSi3nv-Ehh"
      }
    },
    {
      "cell_type": "markdown",
      "source": [
        "9.  Can lists contain different data types in Python?\n",
        "\n",
        "    Yes, lists can contain mixed data types (e.g., int, str, float).\n",
        "\n"
      ],
      "metadata": {
        "id": "SsPWL79Q-FBz"
      }
    },
    {
      "cell_type": "markdown",
      "source": [
        "10. Explain why strings are immutable in Python?\n",
        "\n",
        "   To improve performance, memory efficiency, and ensure hashability (for use in sets/dicts).\n",
        "\n"
      ],
      "metadata": {
        "id": "nvvd895O-Ff-"
      }
    },
    {
      "cell_type": "markdown",
      "source": [
        "  11.What advantages do dictionaries offer over lists for certain tasks?\n",
        "\n",
        "  Advantages of dictionaries over lists for certain tasks:\n",
        "\n",
        "  Faster lookups by key and better for data mapping.\n",
        "\n",
        "\n"
      ],
      "metadata": {
        "id": "a2VpfS8k-GEm"
      }
    },
    {
      "cell_type": "markdown",
      "source": [
        "12. Describe a scenario where using a tuple would be preferable over a list?\n",
        "\n",
        "    Sets only keep unique elements.\n",
        "\n",
        "    If duplicates are added, they are automatically removed.\n",
        "\n",
        "\n",
        "\n",
        "     \n",
        "\n"
      ],
      "metadata": {
        "id": "pYNwN1nv_H3q"
      }
    },
    {
      "cell_type": "markdown",
      "source": [
        "13. How do sets handle duplicate values in Python?\n",
        "\n",
        "   Think of a set like a basket that only allows one of each type of item. So if you try to add the same value more than once, it simply ignores the duplicates.\n",
        "    For example, if you do this:\n",
        "\n",
        "     my_set = {1, 2, 2, 3}\n",
        "\n",
        "     print(my_set)\n",
        "\n",
        "    You'll see the output as {1, 2, 3} — it automatically removes the extra 2. Sets are great when you want to store unique values only.\n"
      ],
      "metadata": {
        "id": "vIT8ddto_IgF"
      }
    },
    {
      "cell_type": "markdown",
      "source": [
        "14. How does the “in” keyword work differently for lists and dictionaries?\n",
        "\n",
        "  When you use \"in\" with a list, it checks if a value exists. For example:\n",
        "\n",
        "   python\n",
        "    fruits = [\"apple\", \"banana\", \"mango\"]\n",
        "    \"banana\" in fruits  # True\n",
        "    But when you use \"in\" with a dictionary, it checks for a key, not a value:\n",
        "\n",
        "    python\n",
        "    person = {\"name\": \"Arisha\", \"age\": 25}\n",
        "    \"name\" in person  # True (key)\n",
        "     \"Arisha\" in person  # False (value)\n",
        "      So, with dictionaries, \"in\" doesn’t look at the values unless you specifically ask it to (\"Arisha\" in person.values()).\n",
        "\n"
      ],
      "metadata": {
        "id": "EcbzCni5_Joh"
      }
    },
    {
      "cell_type": "markdown",
      "source": [
        "15.  Can you modify the elements of a tuple? Explain why or why not ?\n",
        "   \n",
        "    No, you can’t modify the elements of a tuple — and here’s why, in simple terms:\n",
        "\n",
        "   A tuple is like a sealed box — once you put items in and close it, you can’t open it to change what’s inside. It’s “read-only”.\n",
        "    That means you can look at the items, but you can’t add, remove, or change them.\n",
        "\n",
        "  This is because tuples are immutable — a fancy word that means “unchangeable.”\n",
        "\n",
        "\n",
        "  \n"
      ],
      "metadata": {
        "id": "e3rnH6vBLkmz"
      }
    },
    {
      "cell_type": "markdown",
      "source": [
        " 16.What is a nested dictionary, and give an example of its use case?\n",
        "\n",
        "  A nested dictionary is like a dictionary inside another one — like a filing cabinet with folders, and each folder has more details.\n",
        "\n",
        " Example:\n",
        "\n",
        "  python\n",
        "\n",
        "  students =\n",
        "  {\n",
        "    \"A001\": {\"name\": \"Ali\", \"age\": 20},\n",
        "    \"A002\": {\"name\": \"Sara\", \"age\": 22}\n",
        "}\n",
        "  This helps when you want to group related data — like student records, where each student has their own details."
      ],
      "metadata": {
        "id": "qOsMzMV_Gk7U"
      }
    },
    {
      "cell_type": "markdown",
      "source": [
        "17.What is the time complexity of accessing elements in a dictionary?\n",
        "\n",
        "  Looking up something in a dictionary is usually very fast — it takes the same amount of time no matter how big the dictionary is.\n",
        "  \n",
        "  That’s called O(1) time — think of it like quickly jumping to the right page in a book using a bookmark."
      ],
      "metadata": {
        "id": "Aho83jhJGkvy"
      }
    },
    {
      "cell_type": "markdown",
      "source": [
        "18. In what situations are lists preferred over dictionaries?\n",
        "\n",
        "\n",
        "  Use a list when:\n",
        "\n",
        "  You care about the order like a to-do list\n",
        "\n",
        "   You just need a simple collection without names\n",
        "\n",
        "   You want to loop through things in order\n",
        "    For example\n",
        "     a list of groceries makes more sense than a dictionary."
      ],
      "metadata": {
        "id": "USSX1B7nGkj_"
      }
    },
    {
      "cell_type": "markdown",
      "source": [
        "19 .Why are dictionaries considered unordered, and how does that affect retrieval?\n",
        "\n",
        "   Dictionaries don’t let you get things\n",
        "   by number like a list does. You look things up by name (key).\n",
        "\n",
        "   Before Python 3.7, they didn’t even keep things in the order you added them — so the order wasn't predictable.\n",
        "\n",
        "   Even now, you still can’t use positions like dict[0] — you must use the key name.\n",
        "\n"
      ],
      "metadata": {
        "id": "sUIPb_ZdGj3i"
      }
    },
    {
      "cell_type": "markdown",
      "source": [
        "20. Explain the difference between a list and a dictionary in terms of data retrieval.\n",
        "\n",
        "A list is like a row of lockers — you open locker #0, #1, #2, etc.\n",
        "\n",
        "A dictionary is like a contact list — you look up people by name, not by position.\n",
        "\n",
        "So, if you know what you're looking for, use a dictionary. If you just care about the order or want to go through everything, use a list."
      ],
      "metadata": {
        "id": "RwAhnCGJKINo"
      }
    },
    {
      "cell_type": "markdown",
      "source": [
        "                        PRACTICAL ANSWERS"
      ],
      "metadata": {
        "id": "uzPE1lDMdlRA"
      }
    },
    {
      "cell_type": "markdown",
      "source": [
        "1. Write a code to create a string with your name and print it\n",
        "\n",
        " # creating string with my name\n",
        "my_name = \"Arisha Habib\"\n",
        "\n",
        "# Printing the name\n",
        "print(my_name)\n"
      ],
      "metadata": {
        "id": "YYRpjRrbeDYD"
      }
    },
    {
      "cell_type": "markdown",
      "source": [
        "\n",
        "2.Write a code to find the length of the string \"Hello World\"\n",
        "\n",
        " #defining the string\n",
        "\n",
        "my_string = \"Hello World\"\n",
        "\n",
        " #finding the length of the string\n",
        "\n",
        "length = len(my_string)\n",
        "\n",
        " #printing the length of string\n",
        "\n",
        "print(\"The length of the string is:\", length)\n",
        "\n",
        "\n"
      ],
      "metadata": {
        "id": "ujVNA5GWgZ5L"
      }
    },
    {
      "cell_type": "markdown",
      "source": [
        "3.  Write a code to slice the first 3 characters from the string \"Python Programming\"\n",
        "\n",
        "  #Step 1: Create a string and store it in a variable\n",
        "\n",
        "my_text = \"Python Programming\"\n",
        "\n",
        " #Step 2: Slice the first 3 characters (position 0, 1, and 2)\n",
        "\n",
        "first_three = my_text[0:3]\n",
        "\n",
        "  #Step 3: Print the result\n",
        "  \n",
        "print(\"The first 3 characters are:\", first_three)\n",
        "\n"
      ],
      "metadata": {
        "id": "0yb8hX2JgaY6"
      }
    },
    {
      "cell_type": "markdown",
      "source": [
        "4. Write a code to convert the string \"hello\" to uppercase\n",
        "\n",
        " #Step 1: Create a string\n",
        "\n",
        " text = \"hello\"\n",
        "\n",
        " #step 2: Convert the string to uppercase using upper() function\n",
        "\n",
        " uppercase_text = text.upper()\n",
        "\n",
        " #Step 3: Print the result\n",
        "\n",
        "  print(\"Uppercase version:\", uppercase_text)\n",
        "\n",
        "  Output: HELLO\n",
        "\n",
        "\n",
        "\n"
      ],
      "metadata": {
        "id": "rpsYy6aoga3c"
      }
    },
    {
      "cell_type": "code",
      "source": [
        "5. Write a code to replace the word \"apple\" with \"orange\" in the string \"I like apple\"\n",
        "\n",
        "# Step 1: Create the original string\n",
        "text = \"I like apple\"\n",
        "\n",
        "# Step 2: Replace \"apple\" with \"orange\"\n",
        "new_text = text.replace(\"apple\", \"orange\")\n",
        "\n",
        "# Step 3: Print the new string\n",
        "print(\"Updated string:\", new_text)\n",
        "\n",
        "output :\n",
        "i like orange\n"
      ],
      "metadata": {
        "id": "mSRBTQ8jkoLe"
      },
      "execution_count": null,
      "outputs": []
    },
    {
      "cell_type": "code",
      "source": [
        "6. Write a code to create a list with numbers 1 to 5 and print it\n",
        "python\n",
        "\n",
        "\n",
        "# Creating a list with numbers 1 to 5\n",
        "\n",
        "my_list = [1, 2, 3, 4, 5]\n",
        "\n",
        "# Printing the list\n",
        "\n",
        "print(\"List with numbers 1 to 5:\", my_list)\n"
      ],
      "metadata": {
        "id": "jBzbAYOWlAEE"
      },
      "execution_count": null,
      "outputs": []
    },
    {
      "cell_type": "markdown",
      "source": [
        "7.Write a code to append the number 10 to the list [1, 2, 3, 4]\n",
        "python\n",
        "\n",
        " #Starting list\n",
        "\n",
        " my_list = [1, 2, 3, 4]\n",
        "\n",
        " #Appending number 10\n",
        "\n",
        " my_list.append(10)\n",
        "\n",
        " #Printing the updated list\n",
        "\n",
        " print(\"After appending 10:\", my_list)\n"
      ],
      "metadata": {
        "id": "BcmLSQfwlsnu"
      }
    },
    {
      "cell_type": "markdown",
      "source": [
        "8.Write a code to remove the number 3 from the list [1, 2, 3, 4, 5]\n",
        "python\n",
        "\n",
        "\n",
        " #Original list\n",
        "\n",
        " my_list = [1, 2, 3, 4, 5]\n",
        "\n",
        " #Removing number 3\n",
        "\n",
        " my_list.remove(3)\n",
        "\n",
        " #Printing the list after removal\n",
        "\n",
        " print(\"After removing 3:\", my_list)\n"
      ],
      "metadata": {
        "id": "A2PMo1VilskJ"
      }
    },
    {
      "cell_type": "code",
      "source": [
        "9.Write a code to access the second element in the list ['a', 'b', 'c', 'd']\n",
        "python\n",
        "\n",
        "\n",
        "# Creating the list\n",
        "letters = ['a', 'b', 'c', 'd']\n",
        "\n",
        "# Accessing the second element (index 1)\n",
        "second_element = letters[1]\n",
        "\n",
        "# Printing the second element\n",
        "print(\"Second element is:\", second_element)\n"
      ],
      "metadata": {
        "id": "cYf6y7aUm7HO"
      },
      "execution_count": null,
      "outputs": []
    },
    {
      "cell_type": "markdown",
      "source": [
        "10.Write a code to reverse the list [10, 20, 30, 40, 50]\n",
        "python\n",
        "\n",
        " #Original list\n",
        "\n",
        " numbers = [10, 20, 30, 40, 50]\n",
        "\n",
        " #Reversing the list\n",
        "\n",
        " numbers.reverse()\n",
        "\n",
        " #Printing the reversed list\n",
        "\n",
        " print(\"Reversed list:\", numbers)\n"
      ],
      "metadata": {
        "id": "hxNIzdwFlshf"
      }
    },
    {
      "cell_type": "markdown",
      "source": [
        "11. Write a code to create a tuple with the elements 100, 200, 300 and print it.\n",
        "\n",
        "     #Creating a tuple with elements 100, 200, 300\n",
        "\n",
        "      my_tuple = (100, 200, 300)\n",
        "\n",
        "     #Printing the tuple\n",
        "\n",
        "    print(\"The tuple is:\", my_tuple)\n",
        "\n"
      ],
      "metadata": {
        "id": "BrgmCLSklsel"
      }
    }
  ]
}